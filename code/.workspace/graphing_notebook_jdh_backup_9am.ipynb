{
 "cells": [
  {
   "cell_type": "markdown",
   "id": "235cb4b4",
   "metadata": {},
   "source": [
    "# Graph Types and Structures Lab --> Project 3 Workspace"
   ]
  },
  {
   "cell_type": "code",
   "execution_count": 2,
   "id": "b319ec26",
   "metadata": {},
   "outputs": [],
   "source": [
    "import neo4j\n",
    "import pandas as pd\n",
    "from IPython.display import display"
   ]
  },
  {
   "cell_type": "markdown",
   "id": "8f681698",
   "metadata": {},
   "source": [
    "## Remember the Basics"
   ]
  },
  {
   "cell_type": "markdown",
   "id": "b11d757b",
   "metadata": {},
   "source": [
    "- Calmly, Orderly, Systematically, Logically... reduce the Search Space\n",
    "- Expect and make peace with frustration and confusion. Both demonstrate stretching ourselves out of our comfort zone, learning at our maximum potential, not limiting ourselves to what is easy to learn. \n",
    "\n",
    "#### Nodes (vertices) can have: labels for classification and properties (attributes as key / value pairs)\n",
    "\n",
    "#### Relationships (edges) can have: type, direction, and properties (attributes as key / value pairs); "
   ]
  },
  {
   "cell_type": "markdown",
   "id": "c1c7482d",
   "metadata": {},
   "source": [
    "Additional Reading: \n",
    "- https://networkx.org/documentation/stable/reference/generated/networkx.drawing.layout.bipartite_layout.html\n",
    "- https://networkx.org/documentation/stable/reference/generated/networkx.drawing.layout.spring_layout.html"
   ]
  },
  {
   "cell_type": "markdown",
   "id": "8d6efd99",
   "metadata": {},
   "source": [
    "#### Jupyter Hotkeys for VSC\n",
    "\n",
    "Creating Cells\n",
    "\n",
    "1. Create a Code Cell After the Current Position:\n",
    "• Mac: Option + Enter\n",
    "\tThis hotkey will create a new code cell directly below the currently selected cell and move the cursor to the new cell.\n",
    "\n",
    "2. Create a Markdown Cell After the Current Position:\n",
    "• Mac: Cmd + Shift + Option + M\n",
    "\tAlternatively, you can convert an existing code cell to a markdown cell using:\n",
    "\t•Mac: M (when the cell is in command mode)\n",
    "\n",
    "Running Cells\n",
    "\n",
    "1. Run All Cells Above a Certain Point:\n",
    "\tThere isn’t a direct hotkey to run all cells above the current point. However, you can accomplish this by:\n",
    "\t• Command Palette: Cmd + Shift + P (Mac) to open the Command Palette, then type “Run Above” and select “Run Above”."
   ]
  },
  {
   "cell_type": "markdown",
   "id": "9e025793",
   "metadata": {},
   "source": [
    "#### Web server interface at https://xxxx:7473\n",
    "\n",
    "**Username: neo4j**\n",
    "\n",
    "**Password: ucb_mids_w205**\n",
    "\n",
    "The above web server allows and interactive GUI which can output graphs visually in addition to table like output.  The nodes in the graphs can be moved around with the mouse to make the graphs more readable.\n",
    "\n",
    "\n",
    "#### Basics:\n",
    "\n",
    "```:server connect``` - connect to the server, username is \"neo4j\", password is \"ucb_mids_w205\"\n",
    "\n",
    "```:server status``` - shows that username and server you are logged into\n",
    "\n",
    "```:clear``` - clears off old cells\n",
    "\n",
    "```show databases``` - note that community edition only has 1 application database that we can use neo4j, we cannot create now use other databases, we have to wipe out neo4j database for each new graph"
   ]
  },
  {
   "cell_type": "markdown",
   "id": "0b7cd2b1",
   "metadata": {},
   "source": [
    "#### Cypher as the query language: \n",
    "- analogous to SQL for a relational database; Cypher is open source and like SQL is used for multiple database, Cypher can be used for other graph databases\n",
    "\n",
    "\n",
    "```()``` node\n",
    "\n",
    "\n",
    "```[]``` relationships\n",
    "\n",
    "\n",
    "```-> <-``` directions, every relationship must have 1 and only 1 direction\n",
    "\n",
    "\n",
    "```(p:Person)``` p is a variable, Person is a node label\n",
    "\n",
    "\n",
    "```(:Person)``` no variable, Person is a node label\n",
    "\n",
    "\n",
    "```(p:Person {name: 'John', birth_year: 1970})``` name is a property of the node with value 'John', and birth_year is a property with value 1970\n",
    "\n",
    "\n",
    "```(p1:Person {name: 'John'})-[r:IS_FRIEND_OF]->(p2:Person {name: 'Mary'})``` r is a variable, IS_FRIEND_OF is a relationship type\n",
    "\n",
    "\n",
    "```(p1:Person {name: 'John'})-[:IS_FRIEND_OF {since: 1983}]->(p2:Person {name: 'Mary'})``` since is a property of the relationship\n",
    "\n",
    "```match``` matches a pattern of nodes and/or relationships\n",
    "\n",
    "```return``` which properties of nodes and/or relationships to return\n",
    "\n",
    "```order by``` sorting just like SQL\n",
    "\n",
    "```limit```  limiting the rows returned just like SQL\n",
    "\n",
    "```collect``` a form of a pivot to turn rows into a list\n",
    "\n",
    "```unwind``` a form of an unpivot to turn a list into rows\n",
    "\n",
    "```create``` creates nodes and/or relationships\n",
    "\n",
    "```delete``` deletes nodes and/or relationships"
   ]
  },
  {
   "cell_type": "markdown",
   "id": "2dd26654",
   "metadata": {},
   "source": [
    "### Connect, login, create driver, create session; with community edition, we can only use 1 database, the \"neo4j\" database"
   ]
  },
  {
   "cell_type": "markdown",
   "id": "cd1217db",
   "metadata": {},
   "source": []
  },
  {
   "cell_type": "code",
   "execution_count": 3,
   "id": "3a873b14",
   "metadata": {},
   "outputs": [],
   "source": [
    "# driver = neo4j.GraphDatabase.driver(uri=\"neo4j://<EXTERNAL_IP>:7687\", auth=(\"neo4j\", \"ucb_mids_w205\"))\n"
   ]
  },
  {
   "cell_type": "code",
   "execution_count": 4,
   "id": "b0d47a51",
   "metadata": {},
   "outputs": [],
   "source": [
    "# driver = neo4j.GraphDatabase.driver(uri=\"neo4j://neo4j:7687\", auth=(\"neo4j\",\"ucb_mids_w205\"))"
   ]
  },
  {
   "cell_type": "markdown",
   "id": "772b441d",
   "metadata": {},
   "source": [
    "Local -> Cloud access, comment out prior to submitting"
   ]
  },
  {
   "cell_type": "code",
   "execution_count": 5,
   "id": "b57299b9",
   "metadata": {},
   "outputs": [],
   "source": [
    "driver = neo4j.GraphDatabase.driver(uri=\"neo4j://54.156.52.158:7687\", auth=(\"neo4j\", \"ucb_mids_w205\"))"
   ]
  },
  {
   "cell_type": "code",
   "execution_count": 6,
   "id": "7443166b",
   "metadata": {},
   "outputs": [],
   "source": [
    "session = driver.session(database=\"neo4j\")"
   ]
  },
  {
   "cell_type": "markdown",
   "id": "ee7e58e0",
   "metadata": {},
   "source": [
    "## Function Definitions"
   ]
  },
  {
   "cell_type": "markdown",
   "id": "44da7140",
   "metadata": {},
   "source": [
    "### Visualize Graph"
   ]
  },
  {
   "cell_type": "code",
   "execution_count": 7,
   "id": "952f37e9",
   "metadata": {},
   "outputs": [],
   "source": [
    "# !pip install py2neo\n",
    "from py2neo import Graph\n",
    "import networkx as nx\n",
    "import matplotlib.pyplot as plt\n",
    "\n",
    "\n",
    "# Function to visualize the graph using networkx\n",
    "def visualize_graph():\n",
    "    # Connect to the Neo4j database\n",
    "    graph = Graph(\"bolt://54.156.52.158:7687\", auth=(\"neo4j\", \"ucb_mids_w205\"))\n",
    "\n",
    "    # Define a query to get nodes and relationships\n",
    "    query = \"\"\"\n",
    "    MATCH (n)-[r]->(m)\n",
    "    RETURN n.name AS from, type(r) AS type, m.name AS to\n",
    "    \"\"\"\n",
    "\n",
    "    # Run the query\n",
    "    results = graph.run(query)\n",
    "\n",
    "    # Create a NetworkX graph\n",
    "    G = nx.DiGraph()\n",
    "\n",
    "    # Add nodes and edges to the NetworkX graph\n",
    "    for record in results:\n",
    "        G.add_edge(record[\"from\"], record[\"to\"], label=record[\"type\"])\n",
    "\n",
    "    # Choose a layout algorithm\n",
    "    pos = nx.spring_layout(G, k=0.5)  # k controls the distance between nodes\n",
    "\n",
    "    # Draw the nodes and edges\n",
    "    plt.figure(figsize=(12, 8))\n",
    "    nx.draw_networkx_nodes(G, pos, node_size=2000, node_color=\"lightblue\")\n",
    "    nx.draw_networkx_edges(G, pos, edgelist=G.edges(), arrowstyle='->', arrowsize=20)\n",
    "    nx.draw_networkx_labels(G, pos, font_size=10, font_weight=\"bold\")\n",
    "\n",
    "    # Draw the edge labels\n",
    "    edge_labels = nx.get_edge_attributes(G, 'label')\n",
    "    nx.draw_networkx_edge_labels(G, pos, edge_labels=edge_labels, font_color='red')\n",
    "\n",
    "    # Display the graph\n",
    "    plt.title(\"Neo4j Graph Visualization\")\n",
    "    plt.show()\n"
   ]
  },
  {
   "cell_type": "markdown",
   "id": "a9140b1f",
   "metadata": {},
   "source": [
    "### my_neo4j_wipe_out_database() \n",
    "- since community edition can only have 1 database \"neo4j\", this function will wipe out all the nodes and relationships"
   ]
  },
  {
   "cell_type": "code",
   "execution_count": 8,
   "id": "7071c9f5",
   "metadata": {},
   "outputs": [],
   "source": [
    "def my_neo4j_wipe_out_database():\n",
    "    \"wipe out database by deleting all nodes and relationships\"\n",
    "    \n",
    "    query = \"match (node)-[relationship]->() delete node, relationship\"\n",
    "    session.run(query)\n",
    "    \n",
    "    query = \"match (node) delete node\"\n",
    "    session.run(query)"
   ]
  },
  {
   "cell_type": "markdown",
   "id": "f597f27a",
   "metadata": {},
   "source": [
    "### my_neo4j_run_query_pandas() \n",
    "will run a Cypher query and put the results in a Pandas dataframe; easy to see how you can use Python to manipulate the returned data"
   ]
  },
  {
   "cell_type": "code",
   "execution_count": 9,
   "id": "d57f06b2",
   "metadata": {},
   "outputs": [],
   "source": [
    "def my_neo4j_run_query_pandas(query, **kwargs):\n",
    "    \"run a query and return the results in a pandas dataframe\"\n",
    "    \n",
    "    result = session.run(query, **kwargs)\n",
    "    \n",
    "    df = pd.DataFrame([r.values() for r in result], columns=result.keys())\n",
    "    \n",
    "    return df"
   ]
  },
  {
   "cell_type": "markdown",
   "id": "d49cc994",
   "metadata": {},
   "source": [
    "### my_neo4j_nodes_relationships() \n",
    "- will print the nodes (assumes a name property) and relationships"
   ]
  },
  {
   "cell_type": "code",
   "execution_count": 10,
   "id": "ab664564",
   "metadata": {},
   "outputs": [],
   "source": [
    "def my_neo4j_nodes_relationships():\n",
    "    \"print all the nodes and relationships\"\n",
    "   \n",
    "    print(\"-------------------------\")\n",
    "    print(\"  Nodes:\")\n",
    "    print(\"-------------------------\")\n",
    "    \n",
    "    query = \"\"\"\n",
    "        match (n) \n",
    "        return n.name as node_name, labels(n) as labels\n",
    "        order by n.name\n",
    "    \"\"\"\n",
    "    \n",
    "    df = my_neo4j_run_query_pandas(query)\n",
    "    \n",
    "    number_nodes = df.shape[0]\n",
    "    \n",
    "    display(df)\n",
    "    \n",
    "    print(\"-------------------------\")\n",
    "    print(\"  Relationships:\")\n",
    "    print(\"-------------------------\")\n",
    "    \n",
    "    query = \"\"\"\n",
    "        match (n1)-[r]->(n2) \n",
    "        return n1.name as node_name_1, labels(n1) as node_1_labels, \n",
    "            type(r) as relationship_type, n2.name as node_name_2, labels(n2) as node_2_labels\n",
    "        order by node_name_1, node_name_2\n",
    "    \"\"\"\n",
    "    \n",
    "    df = my_neo4j_run_query_pandas(query)\n",
    "    \n",
    "    number_relationships = df.shape[0]\n",
    "    \n",
    "    display(df)\n",
    "    \n",
    "    density = (2 * number_relationships) / (number_nodes * (number_nodes - 1))\n",
    "    \n",
    "    print(\"-------------------------\")\n",
    "    print(\"  Density:\", f'{density:.1f}')\n",
    "    print(\"-------------------------\")\n",
    "    "
   ]
  },
  {
   "cell_type": "markdown",
   "id": "4c1614da",
   "metadata": {},
   "source": [
    "## Testing Workspace"
   ]
  },
  {
   "cell_type": "markdown",
   "id": "d0ed8c9a",
   "metadata": {},
   "source": [
    "### Simple graph of several people and who is a friend of whom"
   ]
  },
  {
   "cell_type": "code",
   "execution_count": 11,
   "id": "e02e24b6",
   "metadata": {},
   "outputs": [
    {
     "data": {
      "text/plain": [
       "<neo4j._sync.work.result.Result at 0x14aa37fa0>"
      ]
     },
     "execution_count": 11,
     "metadata": {},
     "output_type": "execute_result"
    }
   ],
   "source": [
    "my_neo4j_wipe_out_database()\n",
    "\n",
    "query = \"\"\"\n",
    "\n",
    "CREATE\n",
    "  (john:Person {name: 'John', born: 1970}),\n",
    "  (mary:Person {name: 'Mary', born: 1972}),\n",
    "  (mark:Person {name: 'Mark', born: 1968}),\n",
    "  (linda:Person {name: 'Linda', born: 1967}),\n",
    "  (larry:Person {name: 'Larry', born: 1965}),\n",
    "  (john)-[:IS_FRIEND_OF {since: 1983}]->(mary),\n",
    "  (john)-[:IS_FRIEND_OF {since: 1984}]->(mark),\n",
    "  (john)-[:IS_FRIEND_OF {since: 1982}]->(linda),\n",
    "  (mary)-[:IS_FRIEND_OF {since: 1981}]->(larry),\n",
    "  (mark)-[:IS_FRIEND_OF {since: 1983}]->(larry),\n",
    "  (linda)-[:IS_FRIEND_OF {since: 1984}]->(larry)\n",
    "\n",
    "\"\"\"\n",
    "\n",
    "session.run(query)"
   ]
  },
  {
   "cell_type": "code",
   "execution_count": 12,
   "id": "f9454683",
   "metadata": {},
   "outputs": [
    {
     "data": {
      "image/png": "[encoded data removed]",
      "text/plain": [
       "<Figure size 1200x800 with 1 Axes>"
      ]
     },
     "metadata": {},
     "output_type": "display_data"
    }
   ],
   "source": [
    "visualize_graph()"
   ]
  },
  {
   "cell_type": "code",
   "execution_count": 13,
   "id": "c1d8f4f1",
   "metadata": {},
   "outputs": [
    {
     "name": "stdout",
     "output_type": "stream",
     "text": [
      "-------------------------\n",
      "  Nodes:\n",
      "-------------------------\n"
     ]
    },
    {
     "data": {
      "text/html": [
       "<div>\n",
       "<style scoped>\n",
       "    .dataframe tbody tr th:only-of-type {\n",
       "        vertical-align: middle;\n",
       "    }\n",
       "\n",
       "    .dataframe tbody tr th {\n",
       "        vertical-align: top;\n",
       "    }\n",
       "\n",
       "    .dataframe thead th {\n",
       "        text-align: right;\n",
       "    }\n",
       "</style>\n",
       "<table border=\"1\" class=\"dataframe\">\n",
       "  <thead>\n",
       "    <tr style=\"text-align: right;\">\n",
       "      <th></th>\n",
       "      <th>node_name</th>\n",
       "      <th>labels</th>\n",
       "    </tr>\n",
       "  </thead>\n",
       "  <tbody>\n",
       "    <tr>\n",
       "      <th>0</th>\n",
       "      <td>John</td>\n",
       "      <td>[Person]</td>\n",
       "    </tr>\n",
       "    <tr>\n",
       "      <th>1</th>\n",
       "      <td>Larry</td>\n",
       "      <td>[Person]</td>\n",
       "    </tr>\n",
       "    <tr>\n",
       "      <th>2</th>\n",
       "      <td>Linda</td>\n",
       "      <td>[Person]</td>\n",
       "    </tr>\n",
       "    <tr>\n",
       "      <th>3</th>\n",
       "      <td>Mark</td>\n",
       "      <td>[Person]</td>\n",
       "    </tr>\n",
       "    <tr>\n",
       "      <th>4</th>\n",
       "      <td>Mary</td>\n",
       "      <td>[Person]</td>\n",
       "    </tr>\n",
       "  </tbody>\n",
       "</table>\n",
       "</div>"
      ],
      "text/plain": [
       "  node_name    labels\n",
       "0      John  [Person]\n",
       "1     Larry  [Person]\n",
       "2     Linda  [Person]\n",
       "3      Mark  [Person]\n",
       "4      Mary  [Person]"
      ]
     },
     "metadata": {},
     "output_type": "display_data"
    },
    {
     "name": "stdout",
     "output_type": "stream",
     "text": [
      "-------------------------\n",
      "  Relationships:\n",
      "-------------------------\n"
     ]
    },
    {
     "data": {
      "text/html": [
       "<div>\n",
       "<style scoped>\n",
       "    .dataframe tbody tr th:only-of-type {\n",
       "        vertical-align: middle;\n",
       "    }\n",
       "\n",
       "    .dataframe tbody tr th {\n",
       "        vertical-align: top;\n",
       "    }\n",
       "\n",
       "    .dataframe thead th {\n",
       "        text-align: right;\n",
       "    }\n",
       "</style>\n",
       "<table border=\"1\" class=\"dataframe\">\n",
       "  <thead>\n",
       "    <tr style=\"text-align: right;\">\n",
       "      <th></th>\n",
       "      <th>node_name_1</th>\n",
       "      <th>node_1_labels</th>\n",
       "      <th>relationship_type</th>\n",
       "      <th>node_name_2</th>\n",
       "      <th>node_2_labels</th>\n",
       "    </tr>\n",
       "  </thead>\n",
       "  <tbody>\n",
       "    <tr>\n",
       "      <th>0</th>\n",
       "      <td>John</td>\n",
       "      <td>[Person]</td>\n",
       "      <td>IS_FRIEND_OF</td>\n",
       "      <td>Linda</td>\n",
       "      <td>[Person]</td>\n",
       "    </tr>\n",
       "    <tr>\n",
       "      <th>1</th>\n",
       "      <td>John</td>\n",
       "      <td>[Person]</td>\n",
       "      <td>IS_FRIEND_OF</td>\n",
       "      <td>Mark</td>\n",
       "      <td>[Person]</td>\n",
       "    </tr>\n",
       "    <tr>\n",
       "      <th>2</th>\n",
       "      <td>John</td>\n",
       "      <td>[Person]</td>\n",
       "      <td>IS_FRIEND_OF</td>\n",
       "      <td>Mary</td>\n",
       "      <td>[Person]</td>\n",
       "    </tr>\n",
       "    <tr>\n",
       "      <th>3</th>\n",
       "      <td>Linda</td>\n",
       "      <td>[Person]</td>\n",
       "      <td>IS_FRIEND_OF</td>\n",
       "      <td>Larry</td>\n",
       "      <td>[Person]</td>\n",
       "    </tr>\n",
       "    <tr>\n",
       "      <th>4</th>\n",
       "      <td>Mark</td>\n",
       "      <td>[Person]</td>\n",
       "      <td>IS_FRIEND_OF</td>\n",
       "      <td>Larry</td>\n",
       "      <td>[Person]</td>\n",
       "    </tr>\n",
       "    <tr>\n",
       "      <th>5</th>\n",
       "      <td>Mary</td>\n",
       "      <td>[Person]</td>\n",
       "      <td>IS_FRIEND_OF</td>\n",
       "      <td>Larry</td>\n",
       "      <td>[Person]</td>\n",
       "    </tr>\n",
       "  </tbody>\n",
       "</table>\n",
       "</div>"
      ],
      "text/plain": [
       "  node_name_1 node_1_labels relationship_type node_name_2 node_2_labels\n",
       "0        John      [Person]      IS_FRIEND_OF       Linda      [Person]\n",
       "1        John      [Person]      IS_FRIEND_OF        Mark      [Person]\n",
       "2        John      [Person]      IS_FRIEND_OF        Mary      [Person]\n",
       "3       Linda      [Person]      IS_FRIEND_OF       Larry      [Person]\n",
       "4        Mark      [Person]      IS_FRIEND_OF       Larry      [Person]\n",
       "5        Mary      [Person]      IS_FRIEND_OF       Larry      [Person]"
      ]
     },
     "metadata": {},
     "output_type": "display_data"
    },
    {
     "name": "stdout",
     "output_type": "stream",
     "text": [
      "-------------------------\n",
      "  Density: 0.6\n",
      "-------------------------\n",
      "None\n"
     ]
    }
   ],
   "source": [
    "print(my_neo4j_nodes_relationships())\n",
    "my_neo4j_wipe_out_database()"
   ]
  },
  {
   "cell_type": "code",
   "execution_count": null,
   "id": "9684805f",
   "metadata": {},
   "outputs": [],
   "source": []
  },
  {
   "cell_type": "code",
   "execution_count": null,
   "id": "476c791e",
   "metadata": {},
   "outputs": [],
   "source": []
  },
  {
   "cell_type": "code",
   "execution_count": null,
   "id": "c364475b",
   "metadata": {},
   "outputs": [],
   "source": []
  },
  {
   "cell_type": "markdown",
   "id": "69d207c4",
   "metadata": {},
   "source": [
    "## In the Neo4j GUI, run the following query with graph output and rearrange the nodes with your mouse if necessary:\n",
    "\n",
    "```match (n) return n```"
   ]
  },
  {
   "cell_type": "markdown",
   "id": "d5966e05",
   "metadata": {},
   "source": [
    "## Random Network - flat, no patterns, all nodes have the same probability of being attached to each other"
   ]
  },
  {
   "cell_type": "code",
   "execution_count": null,
   "id": "df99fc98",
   "metadata": {},
   "outputs": [],
   "source": [
    "my_neo4j_wipe_out_database()\n",
    "\n",
    "query = \"\"\"\n",
    "\n",
    "CREATE\n",
    "  (a:Generic {name: 'A'}),\n",
    "  (b:Generic {name: 'B'}),\n",
    "  (c:Generic {name: 'C'}),\n",
    "  (d:Generic {name: 'D'}),\n",
    "  (e:Generic {name: 'E'}),\n",
    "  (f:Generic {name: 'F'}),\n",
    "  (g:Generic {name: 'G'}),\n",
    "  (h:Generic {name: 'H'}),\n",
    "  (i:Generic {name: 'I'}),\n",
    "  (a)-[:IS_CONNECTED_TO]->(e),\n",
    "  (a)-[:IS_CONNECTED_TO]->(g),\n",
    "  (b)-[:IS_CONNECTED_TO]->(g),\n",
    "  (c)-[:IS_CONNECTED_TO]->(f),\n",
    "  (c)-[:IS_CONNECTED_TO]->(g),\n",
    "  (d)-[:IS_CONNECTED_TO]->(h),\n",
    "  (e)-[:IS_CONNECTED_TO]->(h),\n",
    "  (f)-[:IS_CONNECTED_TO]->(g),\n",
    "  (f)-[:IS_CONNECTED_TO]->(i)\n",
    "  \n",
    "\"\"\"\n",
    "\n",
    "session.run(query)"
   ]
  },
  {
   "cell_type": "code",
   "execution_count": null,
   "id": "ded4997d",
   "metadata": {},
   "outputs": [],
   "source": [
    "my_neo4j_nodes_relationships()"
   ]
  },
  {
   "cell_type": "code",
   "execution_count": null,
   "id": "927a7ec0",
   "metadata": {},
   "outputs": [],
   "source": [
    "# Visualize the Random Network\n",
    "visualize_graph()"
   ]
  },
  {
   "cell_type": "markdown",
   "id": "b32fe367",
   "metadata": {},
   "source": [
    "## Small-World Network - high degree of local clustering, short average path lengths, hub and spoke, no node more than a few relationships away from any other node"
   ]
  },
  {
   "cell_type": "code",
   "execution_count": null,
   "id": "9379e9e4",
   "metadata": {},
   "outputs": [],
   "source": [
    "my_neo4j_wipe_out_database()\n",
    "\n",
    "query = \"\"\"\n",
    "\n",
    "CREATE\n",
    "  (a:Generic {name: 'A'}),\n",
    "  (b:Generic {name: 'B'}),\n",
    "  (c:Generic {name: 'C'}),\n",
    "  (d:Generic {name: 'D'}),\n",
    "  (e:Generic {name: 'E'}),\n",
    "  (f:Generic {name: 'F'}),\n",
    "  (g:Generic {name: 'G'}),\n",
    "  (h:Generic {name: 'H'}),\n",
    "  (i:Generic {name: 'I'}),\n",
    "  (j:Generic {name: 'J'}),\n",
    "  (k:Generic {name: 'K'}),\n",
    "  (l:Generic {name: 'L'}),\n",
    "  (m:Generic {name: 'M'}),\n",
    "  (n:Generic {name: 'N'}),\n",
    "  (o:Generic {name: 'O'}),\n",
    "  (p:Generic {name: 'P'}),\n",
    "  (a)-[:IS_CONNECTED_TO]->(c),\n",
    "  (a)-[:IS_CONNECTED_TO]->(o),\n",
    "  (a)-[:IS_CONNECTED_TO]->(i),\n",
    "  (b)-[:IS_CONNECTED_TO]->(d),\n",
    "  (b)-[:IS_CONNECTED_TO]->(n),\n",
    "  (b)-[:IS_CONNECTED_TO]->(o),\n",
    "  (b)-[:IS_CONNECTED_TO]->(p),\n",
    "  (c)-[:IS_CONNECTED_TO]->(e),\n",
    "  (d)-[:IS_CONNECTED_TO]->(i),\n",
    "  (d)-[:IS_CONNECTED_TO]->(p),\n",
    "  (e)-[:IS_CONNECTED_TO]->(g),\n",
    "  (e)-[:IS_CONNECTED_TO]->(h),\n",
    "  (e)-[:IS_CONNECTED_TO]->(n),\n",
    "  (f)-[:IS_CONNECTED_TO]->(h),\n",
    "  (g)-[:IS_CONNECTED_TO]->(i),\n",
    "  (g)-[:IS_CONNECTED_TO]->(n),\n",
    "  (h)-[:IS_CONNECTED_TO]->(j),\n",
    "  (i)-[:IS_CONNECTED_TO]->(k),\n",
    "  (j)-[:IS_CONNECTED_TO]->(o),\n",
    "  (k)-[:IS_CONNECTED_TO]->(m),\n",
    "  (l)-[:IS_CONNECTED_TO]->(n),\n",
    "  (m)-[:IS_CONNECTED_TO]->(o)\n",
    "  \n",
    "\"\"\"\n",
    "\n",
    "session.run(query)"
   ]
  },
  {
   "cell_type": "code",
   "execution_count": null,
   "id": "032b9382",
   "metadata": {},
   "outputs": [],
   "source": [
    "my_neo4j_nodes_relationships()"
   ]
  },
  {
   "cell_type": "code",
   "execution_count": null,
   "id": "18aa221e",
   "metadata": {},
   "outputs": [],
   "source": [
    "# Visualize the Random Network\n",
    "visualize_graph()"
   ]
  },
  {
   "cell_type": "markdown",
   "id": "a244ce2b",
   "metadata": {},
   "source": [
    "## Scale-Free Network - hub and spoke in multiple scales, power-law distribution (change in one quantity results in relatively proportional change in another quantity"
   ]
  },
  {
   "cell_type": "code",
   "execution_count": null,
   "id": "11b4cba0",
   "metadata": {},
   "outputs": [],
   "source": [
    "my_neo4j_wipe_out_database()\n",
    "\n",
    "query = \"\"\"\n",
    "\n",
    "CREATE\n",
    "  (a:Generic {name: 'A'}),\n",
    "  (b:Generic {name: 'B'}),\n",
    "  (c:Generic {name: 'C'}),\n",
    "  (d:Generic {name: 'D'}),\n",
    "  (e:Generic {name: 'E'}),\n",
    "  (f:Generic {name: 'F'}),\n",
    "  (g:Generic {name: 'G'}),\n",
    "  (h:Generic {name: 'H'}),\n",
    "  (i:Generic {name: 'I'}),\n",
    "  (j:Generic {name: 'J'}),\n",
    "  (k:Generic {name: 'K'}),\n",
    "  (l:Generic {name: 'L'}),\n",
    "  (m:Generic {name: 'M'}),\n",
    "  (n:Generic {name: 'N'}),\n",
    "  (o:Generic {name: 'O'}),\n",
    "  (p:Generic {name: 'P'}),\n",
    "  (q:Generic {name: 'Q'}),\n",
    "  (a)-[:IS_CONNECTED_TO]->(b),\n",
    "  (a)-[:IS_CONNECTED_TO]->(c),\n",
    "  (a)-[:IS_CONNECTED_TO]->(d),\n",
    "  (b)-[:IS_CONNECTED_TO]->(n),\n",
    "  (b)-[:IS_CONNECTED_TO]->(o),\n",
    "  (b)-[:IS_CONNECTED_TO]->(p),\n",
    "  (b)-[:IS_CONNECTED_TO]->(q),\n",
    "  (c)-[:IS_CONNECTED_TO]->(j),\n",
    "  (c)-[:IS_CONNECTED_TO]->(k),\n",
    "  (c)-[:IS_CONNECTED_TO]->(l),\n",
    "  (c)-[:IS_CONNECTED_TO]->(m),\n",
    "  (d)-[:IS_CONNECTED_TO]->(e),\n",
    "  (d)-[:IS_CONNECTED_TO]->(f),\n",
    "  (d)-[:IS_CONNECTED_TO]->(g),\n",
    "  (d)-[:IS_CONNECTED_TO]->(h),\n",
    "  (d)-[:IS_CONNECTED_TO]->(i)\n",
    "  \n",
    "\"\"\"\n",
    "\n",
    "session.run(query)"
   ]
  },
  {
   "cell_type": "code",
   "execution_count": null,
   "id": "ea70a382",
   "metadata": {},
   "outputs": [],
   "source": [
    "my_neo4j_nodes_relationships()"
   ]
  },
  {
   "cell_type": "code",
   "execution_count": null,
   "id": "a3dd46ed",
   "metadata": {},
   "outputs": [],
   "source": [
    "# Visualize the Random Network\n",
    "visualize_graph()"
   ]
  },
  {
   "cell_type": "markdown",
   "id": "5be6197d",
   "metadata": {},
   "source": [
    "# Lab: Neo4j - Connected, Disconnected, Weighted, Unweighted"
   ]
  },
  {
   "cell_type": "markdown",
   "id": "2e474a03",
   "metadata": {},
   "source": [
    "## Connected - path between any 2 nodes (regardless of the distance), all graphs we have seen up until now have been connected"
   ]
  },
  {
   "cell_type": "markdown",
   "id": "1587ebd7",
   "metadata": {},
   "source": [
    "## Disconnected - some nodes may not be connected to other nodes, \"islands\" - group of connected nodes disconnected from the main graph"
   ]
  },
  {
   "cell_type": "code",
   "execution_count": null,
   "id": "46eaaa5f",
   "metadata": {},
   "outputs": [],
   "source": [
    "my_neo4j_wipe_out_database()\n",
    "\n",
    "query = \"\"\"\n",
    "\n",
    "CREATE\n",
    "  (a:Generic {name: 'A'}),\n",
    "  (b:Generic {name: 'B'}),\n",
    "  (c:Generic {name: 'C'}),\n",
    "  (d:Generic {name: 'D'}),\n",
    "  (e:Generic {name: 'E'}),\n",
    "  (f:Generic {name: 'F'}),\n",
    "  (g:Generic {name: 'G'}),\n",
    "  (h:Generic {name: 'H'}),\n",
    "  (i:Generic {name: 'I'}),\n",
    "  (a)-[:IS_CONNECTED_TO]->(b),\n",
    "  (a)-[:IS_CONNECTED_TO]->(c),\n",
    "  (d)-[:IS_CONNECTED_TO]->(e),\n",
    "  (f)-[:IS_CONNECTED_TO]->(g),\n",
    "  (f)-[:IS_CONNECTED_TO]->(h),\n",
    "  (f)-[:IS_CONNECTED_TO]->(i),\n",
    "  (g)-[:IS_CONNECTED_TO]->(h),\n",
    "  (h)-[:IS_CONNECTED_TO]->(i)\n",
    "\n",
    "\"\"\"\n",
    "\n",
    "session.run(query)"
   ]
  },
  {
   "cell_type": "code",
   "execution_count": null,
   "id": "0c2d155a",
   "metadata": {},
   "outputs": [],
   "source": [
    "my_neo4j_nodes_relationships()"
   ]
  },
  {
   "cell_type": "code",
   "execution_count": null,
   "id": "770e3556",
   "metadata": {},
   "outputs": [],
   "source": [
    "# Visualize the Random Network\n",
    "visualize_graph()"
   ]
  },
  {
   "cell_type": "markdown",
   "id": "60f29f24",
   "metadata": {},
   "source": [
    "## Unweighted - no numeric value placed on the relationships, all the graphs we have seen up until now have been unweighted, some algorithms require weights, some algorithms do not consider weights, some algoritms default unweighted to a weight of 1 "
   ]
  },
  {
   "cell_type": "markdown",
   "id": "a4f23289",
   "metadata": {},
   "source": [
    "## Weighted - numeric values placed on a relationship"
   ]
  },
  {
   "cell_type": "code",
   "execution_count": null,
   "id": "0fbc6ab0",
   "metadata": {},
   "outputs": [],
   "source": [
    "my_neo4j_wipe_out_database()\n",
    "\n",
    "query = \"\"\"\n",
    "\n",
    "CREATE\n",
    "  (a:Generic {name: 'A', weight: 5}),\n",
    "  (b:Generic {name: 'B', weight: 7}),\n",
    "  (c:Generic {name: 'C', weight: 8}),\n",
    "  (d:Generic {name: 'D', weight: 3}),\n",
    "  (e:Generic {name: 'E', weight: 4}),\n",
    "  (a)-[:IS_CONNECTED_TO {weight: 110}]->(b),\n",
    "  (a)-[:IS_CONNECTED_TO {weight: 120}]->(c),\n",
    "  (b)-[:IS_CONNECTED_TO {weight: 123}]->(c),\n",
    "  (c)-[:IS_CONNECTED_TO {weight: 127}]->(d),\n",
    "  (d)-[:IS_CONNECTED_TO {weight: 117}]->(e)\n",
    "  \n",
    "\"\"\"\n",
    "\n",
    "session.run(query)"
   ]
  },
  {
   "cell_type": "code",
   "execution_count": null,
   "id": "051599cb",
   "metadata": {},
   "outputs": [],
   "source": [
    "my_neo4j_nodes_relationships()"
   ]
  },
  {
   "cell_type": "code",
   "execution_count": null,
   "id": "b815130f",
   "metadata": {},
   "outputs": [],
   "source": [
    "# Visualize the Random Network\n",
    "visualize_graph()"
   ]
  },
  {
   "cell_type": "markdown",
   "id": "8a089320",
   "metadata": {},
   "source": [
    "# Lab: Neo4j - Cyclic, Acyclic, Trees"
   ]
  },
  {
   "cell_type": "markdown",
   "id": "b90fbf13",
   "metadata": {},
   "source": [
    "## Cyclic  - has cycles, path from a node back to itself, some algorithms can get stuck in cycles"
   ]
  },
  {
   "cell_type": "code",
   "execution_count": null,
   "id": "4cfffce7",
   "metadata": {},
   "outputs": [],
   "source": [
    "my_neo4j_wipe_out_database()\n",
    "\n",
    "query = \"\"\"\n",
    "\n",
    "CREATE\n",
    "  (a:Generic {name: 'A'}),\n",
    "  (b:Generic {name: 'B'}),\n",
    "  (c:Generic {name: 'C'}),\n",
    "  (d:Generic {name: 'D'}),\n",
    "  (e:Generic {name: 'E'}),\n",
    "  (f:Generic {name: 'F'}),\n",
    "  (a)-[:IS_CONNECTED_TO]->(c),\n",
    "  (c)-[:IS_CONNECTED_TO]->(d),\n",
    "  (d)-[:IS_CONNECTED_TO]->(a),\n",
    "  (d)-[:IS_CONNECTED_TO]->(e),\n",
    "  (c)-[:IS_CONNECTED_TO]->(b),\n",
    "  (b)-[:IS_CONNECTED_TO]->(f),\n",
    "  (f)-[:IS_CONNECTED_TO]->(c)\n",
    "  \n",
    "\"\"\"\n",
    "\n",
    "session.run(query)"
   ]
  },
  {
   "cell_type": "code",
   "execution_count": null,
   "id": "aa158b86",
   "metadata": {},
   "outputs": [],
   "source": [
    "my_neo4j_nodes_relationships()"
   ]
  },
  {
   "cell_type": "code",
   "execution_count": null,
   "id": "4f5b5c54",
   "metadata": {},
   "outputs": [],
   "source": [
    "# Visualize the Random Network\n",
    "visualize_graph()"
   ]
  },
  {
   "cell_type": "markdown",
   "id": "2337312d",
   "metadata": {},
   "source": [
    "## Acyclic - no cycles, no node has a path back to itself, a lot of algorithms require acyclic"
   ]
  },
  {
   "cell_type": "code",
   "execution_count": null,
   "id": "1ea1350e",
   "metadata": {},
   "outputs": [],
   "source": [
    "my_neo4j_wipe_out_database()\n",
    "\n",
    "query = \"\"\"\n",
    "\n",
    "CREATE\n",
    "  (a:Generic {name: 'A'}),\n",
    "  (b:Generic {name: 'B'}),\n",
    "  (c:Generic {name: 'C'}),\n",
    "  (d:Generic {name: 'D'}),\n",
    "  (e:Generic {name: 'E'}),\n",
    "  (f:Generic {name: 'F'}),\n",
    "  (g:Generic {name: 'G'}),\n",
    "  (a)-[:IS_CONNECTED_TO]->(c),\n",
    "  (a)-[:IS_CONNECTED_TO]->(d),\n",
    "  (a)-[:IS_CONNECTED_TO]->(f),\n",
    "  (c)-[:IS_CONNECTED_TO]->(b),\n",
    "  (c)-[:IS_CONNECTED_TO]->(g),\n",
    "  (d)-[:IS_CONNECTED_TO]->(e)\n",
    "  \n",
    "\"\"\"\n",
    "\n",
    "session.run(query)"
   ]
  },
  {
   "cell_type": "code",
   "execution_count": null,
   "id": "0232fc61",
   "metadata": {
    "scrolled": true
   },
   "outputs": [],
   "source": [
    "my_neo4j_nodes_relationships()"
   ]
  },
  {
   "cell_type": "code",
   "execution_count": null,
   "id": "c597f26b",
   "metadata": {},
   "outputs": [],
   "source": [
    "# Visualize the Random Network\n",
    "visualize_graph()"
   ]
  },
  {
   "cell_type": "markdown",
   "id": "3f81eb28",
   "metadata": {},
   "source": [
    "## Trees - acyclic graphs, spanning tree - all nodes in a graph with relationships removed to remove cycles; we will take our cyclic graph example and remove relationships until we have a spanning tree"
   ]
  },
  {
   "cell_type": "code",
   "execution_count": null,
   "id": "05a9205b",
   "metadata": {},
   "outputs": [],
   "source": [
    "my_neo4j_wipe_out_database()\n",
    "\n",
    "query = \"\"\"\n",
    "\n",
    "CREATE\n",
    "  (a1:Generic {name: 'A1'}),\n",
    "  (b1:Generic {name: 'B1'}),\n",
    "  (c1:Generic {name: 'C1'}),\n",
    "  (d1:Generic {name: 'D1'}),\n",
    "  (e1:Generic {name: 'E1'}),\n",
    "  (f1:Generic {name: 'F1'}),\n",
    "  (a1)-[:IS_CONNECTED_TO]->(c1),\n",
    "  (c1)-[:IS_CONNECTED_TO]->(d1),\n",
    "  (d1)-[:IS_CONNECTED_TO]->(a1),\n",
    "  (d1)-[:IS_CONNECTED_TO]->(e1),\n",
    "  (c1)-[:IS_CONNECTED_TO]->(b1),\n",
    "  (b1)-[:IS_CONNECTED_TO]->(f1),\n",
    "  (f1)-[:IS_CONNECTED_TO]->(c1),\n",
    "  (a2:Generic {name: 'A2'}),\n",
    "  (b2:Generic {name: 'B2'}),\n",
    "  (c2:Generic {name: 'C2'}),\n",
    "  (d2:Generic {name: 'D2'}),\n",
    "  (e2:Generic {name: 'E2'}),\n",
    "  (f2:Generic {name: 'F2'}),\n",
    "  (a2)-[:IS_CONNECTED_TO]->(c2),\n",
    "  (c2)-[:IS_CONNECTED_TO]->(b2),\n",
    "  (b2)-[:IS_CONNECTED_TO]->(f2),\n",
    "  (c2)-[:IS_CONNECTED_TO]->(d2),\n",
    "  (d2)-[:IS_CONNECTED_TO]->(e2)\n",
    "  \n",
    "\"\"\"\n",
    "\n",
    "session.run(query)"
   ]
  },
  {
   "cell_type": "code",
   "execution_count": null,
   "id": "3f03601c",
   "metadata": {
    "scrolled": true
   },
   "outputs": [],
   "source": [
    "my_neo4j_nodes_relationships()"
   ]
  },
  {
   "cell_type": "code",
   "execution_count": null,
   "id": "2ff4ae7f",
   "metadata": {},
   "outputs": [],
   "source": [
    "# Visualize the Random Network\n",
    "visualize_graph()"
   ]
  },
  {
   "cell_type": "markdown",
   "id": "57a6e274",
   "metadata": {},
   "source": [
    "# Lab: Neo4j - Density Calculations, Sparse Graphs, Dense Graphs"
   ]
  },
  {
   "cell_type": "markdown",
   "id": "be555dcb",
   "metadata": {},
   "source": [
    "## Density Calculations:\n",
    "\n",
    "* Maximum Density = (nodes (nodes - 1) ) / 2\n",
    "\n",
    "\n",
    "* Actual Density = (2 * relationships) / (nodes * (nodes - 1) )"
   ]
  },
  {
   "cell_type": "markdown",
   "id": "e5848a33",
   "metadata": {},
   "source": [
    "## Sparce Graph - low density "
   ]
  },
  {
   "cell_type": "code",
   "execution_count": null,
   "id": "3ef53394",
   "metadata": {},
   "outputs": [],
   "source": [
    "my_neo4j_wipe_out_database()\n",
    "\n",
    "query = \"\"\"\n",
    "\n",
    "CREATE\n",
    "  (a:Generic {name: 'A'}),\n",
    "  (b:Generic {name: 'B'}),\n",
    "  (c:Generic {name: 'C'}),\n",
    "  (d:Generic {name: 'D'}),\n",
    "  (e:Generic {name: 'E'}),\n",
    "  (f:Generic {name: 'F'}),\n",
    "  (a)-[:IS_CONNECTED_TO]->(b),\n",
    "  (b)-[:IS_CONNECTED_TO]->(c),\n",
    "  (c)-[:IS_CONNECTED_TO]->(d),\n",
    "  (d)-[:IS_CONNECTED_TO]->(e),\n",
    "  (e)-[:IS_CONNECTED_TO]->(f)\n",
    "  \n",
    "\"\"\"\n",
    "\n",
    "session.run(query)"
   ]
  },
  {
   "cell_type": "code",
   "execution_count": null,
   "id": "0d9b9c92",
   "metadata": {},
   "outputs": [],
   "source": [
    "my_neo4j_nodes_relationships()"
   ]
  },
  {
   "cell_type": "code",
   "execution_count": null,
   "id": "c70faaa2",
   "metadata": {},
   "outputs": [],
   "source": [
    "# Visualize the Random Network\n",
    "visualize_graph()"
   ]
  },
  {
   "cell_type": "markdown",
   "id": "0b98dbd0",
   "metadata": {},
   "source": [
    "## Dense Graph - high density"
   ]
  },
  {
   "cell_type": "code",
   "execution_count": null,
   "id": "37f005c2",
   "metadata": {},
   "outputs": [],
   "source": [
    "my_neo4j_wipe_out_database()\n",
    "\n",
    "query = \"\"\"\n",
    "\n",
    "CREATE\n",
    "  (a:Generic {name: 'A'}),\n",
    "  (b:Generic {name: 'B'}),\n",
    "  (c:Generic {name: 'C'}),\n",
    "  (d:Generic {name: 'D'}),\n",
    "  (e:Generic {name: 'E'}),\n",
    "  (f:Generic {name: 'F'}),\n",
    "  (a)-[:IS_CONNECTED_TO]->(b),\n",
    "  (a)-[:IS_CONNECTED_TO]->(c),\n",
    "  (a)-[:IS_CONNECTED_TO]->(d),\n",
    "  (a)-[:IS_CONNECTED_TO]->(f),\n",
    "  (b)-[:IS_CONNECTED_TO]->(c),\n",
    "  (b)-[:IS_CONNECTED_TO]->(d),\n",
    "  (b)-[:IS_CONNECTED_TO]->(e),\n",
    "  (b)-[:IS_CONNECTED_TO]->(f),\n",
    "  (c)-[:IS_CONNECTED_TO]->(d),\n",
    "  (c)-[:IS_CONNECTED_TO]->(e),\n",
    "  (c)-[:IS_CONNECTED_TO]->(f),\n",
    "  (d)-[:IS_CONNECTED_TO]->(e),\n",
    "  (d)-[:IS_CONNECTED_TO]->(f),\n",
    "  (e)-[:IS_CONNECTED_TO]->(f)\n",
    "  \n",
    "\"\"\"\n",
    "\n",
    "session.run(query)"
   ]
  },
  {
   "cell_type": "code",
   "execution_count": null,
   "id": "6160bccc",
   "metadata": {},
   "outputs": [],
   "source": [
    "my_neo4j_nodes_relationships()"
   ]
  },
  {
   "cell_type": "code",
   "execution_count": null,
   "id": "860260fc",
   "metadata": {},
   "outputs": [],
   "source": [
    "# Visualize the Random Network\n",
    "visualize_graph()"
   ]
  },
  {
   "cell_type": "markdown",
   "id": "da7dcdf8",
   "metadata": {},
   "source": [
    "# Lab: Neo4j - Monopartite, Bipartite, k-Partite Graphs"
   ]
  },
  {
   "cell_type": "markdown",
   "id": "7cbc3924",
   "metadata": {},
   "source": [
    "## Monopartitie - 1 node label, 1 relationship type, all graphs we have seen so far are monopartitie"
   ]
  },
  {
   "cell_type": "markdown",
   "id": "f4110961",
   "metadata": {},
   "source": [
    "## Bipartite - two sets, nodes from one set only connect to nodes in the other set"
   ]
  },
  {
   "cell_type": "code",
   "execution_count": null,
   "id": "a53885a4",
   "metadata": {},
   "outputs": [],
   "source": [
    "my_neo4j_wipe_out_database()\n",
    "\n",
    "query = \"\"\"\n",
    "\n",
    "CREATE\n",
    "  (john:Person {name: 'John'}),\n",
    "  (mary:Person {name: 'Mary'}),\n",
    "  (linda:Person {name: 'Linda'}),\n",
    "  (a:Club {name: 'Club A'}),\n",
    "  (b:Club {name: 'Club B'}),\n",
    "  (c:Club {name: 'Club C'}),\n",
    "  (mary)-[:IS_MEMBER_OF]->(a),\n",
    "  (mary)-[:IS_MEMBER_OF]->(b),\n",
    "  (mary)-[:IS_MEMBER_OF]->(c),\n",
    "  (linda)-[:IS_MEMBER_OF]->(a),\n",
    "  (john)-[:IS_MEMBER_OF]->(b),\n",
    "  (john)-[:IS_MEMBER_OF]->(c)\n",
    "  \n",
    "\"\"\"\n",
    "\n",
    "session.run(query)"
   ]
  },
  {
   "cell_type": "code",
   "execution_count": null,
   "id": "9ee345b2",
   "metadata": {},
   "outputs": [],
   "source": [
    "my_neo4j_nodes_relationships()"
   ]
  },
  {
   "cell_type": "code",
   "execution_count": null,
   "id": "520a122e",
   "metadata": {},
   "outputs": [],
   "source": [
    "# Visualize the Random Network\n",
    "visualize_graph()"
   ]
  },
  {
   "cell_type": "markdown",
   "id": "27857027",
   "metadata": {},
   "source": [
    "## k-Partite - k sets, nodes from one set only connect to nodes in another set, most real world graphs have a high k value; in this example k=4: Person, Club, Course, Day"
   ]
  },
  {
   "cell_type": "code",
   "execution_count": null,
   "id": "ccdafeda",
   "metadata": {},
   "outputs": [],
   "source": [
    "my_neo4j_wipe_out_database()\n",
    "\n",
    "query = \"\"\"\n",
    "\n",
    "CREATE\n",
    "  (john:Person {name: 'John'}),\n",
    "  (mary:Person {name: 'Mary'}),\n",
    "  (linda:Person {name: 'Linda'}),\n",
    "  (a:Club {name: 'Club A'}),\n",
    "  (b:Club {name: 'Club B'}),\n",
    "  (c:Club {name: 'Club C'}),\n",
    "  (ds:Course {name: 'Data Structures'}),\n",
    "  (as:Course {name: 'Assembler'}),\n",
    "  (st:Course {name: 'Statictics'}),\n",
    "  (lt:Course {name: 'Laplace Transform'}),\n",
    "  (tu:Day {name: 'Tuesday'}),\n",
    "  (th:Day {name: 'Thursday'}),\n",
    "  (mary)-[:IS_MEMBER_OF]->(a),\n",
    "  (mary)-[:IS_MEMBER_OF]->(b),\n",
    "  (mary)-[:IS_MEMBER_OF]->(c),\n",
    "  (linda)-[:IS_MEMBER_OF]->(a),\n",
    "  (john)-[:IS_MEMBER_OF]->(b),\n",
    "  (john)-[:IS_MEMBER_OF]->(c),\n",
    "  (mary)-[:IS_TAKING]->(st),\n",
    "  (mary)-[:IS_TAKING]->(lt),\n",
    "  (linda)-[:IS_TAKING]->(ds),\n",
    "  (linda)-[:IS_TAKING]->(st),\n",
    "  (linda)-[:IS_TAKING]->(lt),\n",
    "  (john)-[:IS_TAKING]->(as),\n",
    "  (ds)-[:TAUGHT_ON]->(tu),\n",
    "  (st)-[:TAUGHT_ON]->(tu),\n",
    "  (as)-[:TAUGHT_ON]->(th),\n",
    "  (lt)-[:TAUGHT_ON]->(th)\n",
    "  \n",
    "\"\"\"\n",
    "\n",
    "session.run(query)"
   ]
  },
  {
   "cell_type": "code",
   "execution_count": null,
   "id": "a90d2598",
   "metadata": {
    "scrolled": true
   },
   "outputs": [],
   "source": [
    "my_neo4j_nodes_relationships()"
   ]
  },
  {
   "cell_type": "code",
   "execution_count": null,
   "id": "fa1f328b",
   "metadata": {},
   "outputs": [],
   "source": [
    "# Visualize the Random Network\n",
    "visualize_graph()"
   ]
  }
 ],
 "metadata": {
  "kernelspec": {
   "display_name": "Python 3 (ipykernel)",
   "language": "python",
   "name": "python3"
  },
  "language_info": {
   "codemirror_mode": {
    "name": "ipython",
    "version": 3
   },
   "file_extension": ".py",
   "mimetype": "text/x-python",
   "name": "python",
   "nbconvert_exporter": "python",
   "pygments_lexer": "ipython3",
   "version": "3.10.14"
  }
 },
 "nbformat": 4,
 "nbformat_minor": 5
}
